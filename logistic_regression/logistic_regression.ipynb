{
 "cells": [
  {
   "cell_type": "markdown",
   "metadata": {},
   "source": [
    "## Logistic regression"
   ]
  },
  {
   "cell_type": "markdown",
   "metadata": {},
   "source": [
    "### 1.导入需要的库/模块"
   ]
  },
  {
   "cell_type": "code",
   "execution_count": 2,
   "metadata": {
    "collapsed": true
   },
   "outputs": [],
   "source": [
    "import numpy as np\n",
    "import pandas as pd\n",
    "import matplotlib.pyplot as plt\n",
    "%matplotlib inline\n",
    "from logistic_regression import LogisticRegression"
   ]
  },
  {
   "cell_type": "markdown",
   "metadata": {},
   "source": [
    "### 2.加载MNIST数据集\n",
    "\n",
    "在** ./data/code/transform.c **中，我们对数据集进行了转换和拆分为训练集(training)、验证集(validation)和测试集(testing)"
   ]
  },
  {
   "cell_type": "code",
   "execution_count": 3,
   "metadata": {
    "collapsed": false
   },
   "outputs": [
    {
     "name": "stdout",
     "output_type": "stream",
     "text": [
      "Loading training data\n",
      "Loading testing data\n",
      "Loading validating data\n"
     ]
    }
   ],
   "source": [
    "print(\"Loading training data\")\n",
    "pd_train = pd.read_csv(\"../data/training\", header=None)\n",
    "\n",
    "print(\"Loading testing data\")\n",
    "pd_test = pd.read_csv(\"../data/testing\", header=None)\n",
    "\n",
    "print(\"Loading validating data\")\n",
    "pd_validate = pd.read_csv(\"../data/validation\", header=None)"
   ]
  },
  {
   "cell_type": "markdown",
   "metadata": {},
   "source": [
    "查看数据集的维度信息："
   ]
  },
  {
   "cell_type": "code",
   "execution_count": 10,
   "metadata": {
    "collapsed": false
   },
   "outputs": [
    {
     "name": "stdout",
     "output_type": "stream",
     "text": [
      "(50000, 785)\n",
      "(10000, 785)\n",
      "(10000, 785)\n"
     ]
    }
   ],
   "source": [
    "print(pd_train.shape)\n",
    "print(pd_test.shape)\n",
    "print(pd_validate.shape)"
   ]
  },
  {
   "cell_type": "markdown",
   "metadata": {},
   "source": [
    "我们可以看到训练集有50000个样本，验证集和测试集有10000个样本，每一个样本都是1+28*28=785维的特征向量"
   ]
  },
  {
   "cell_type": "markdown",
   "metadata": {},
   "source": [
    "### 3.训练模型\n",
    "\n",
    "MNIST一共类10类(数字0-9)，因此我们需要将Logistic regression推广到多分类问题上。\n",
    "\n",
    "基本思路：将多分类任务拆若干个二分类任务。学习时分别训练多个分类器，测试时对这个分类器的预测结果进行集成以获得最终的分类结果。\n",
    "\n",
    "经典的拆分策略有：\n",
    "\n",
    "- 一对一(OvO)\n",
    "- 一对多(OvR)\n",
    "- 多对多(MvM)\n",
    "\n",
    "我们将使用一对多的拆分方法，每次将一个类的样例作为正例、所有其他类的样例作为反例来训练10个分类器。在测试时选择sigmoid函数值最大的，所对应的类标号作为最终的分类结果。\n",
    "\n",
    "**baseline:**"
   ]
  },
  {
   "cell_type": "code",
   "execution_count": 5,
   "metadata": {
    "collapsed": false
   },
   "outputs": [
    {
     "name": "stdout",
     "output_type": "stream",
     "text": [
      "------------- Training model for number: 0 -------------\n",
      "\n",
      "step 0: 0.702554\n",
      "step 10: 0.098281\n",
      "step 20: 0.079234\n",
      "step 30: 0.069833\n",
      "step 40: 0.063964\n",
      "step 50: 0.059857\n",
      "step 60: 0.056778\n",
      "step 70: 0.054360\n",
      "step 80: 0.052397\n",
      "step 90: 0.050761\n",
      "Final training error: 0.049501\n",
      "\n",
      "------------- Training model for number: 1 -------------\n",
      "\n",
      "step 0: 0.519057\n",
      "step 10: 0.083981\n",
      "step 20: 0.068974\n",
      "step 30: 0.061465\n",
      "step 40: 0.056826\n",
      "step 50: 0.053625\n",
      "step 60: 0.051261\n",
      "step 70: 0.049429\n",
      "step 80: 0.047960\n",
      "step 90: 0.046750\n",
      "Final training error: 0.045827\n",
      "\n",
      "------------- Training model for number: 2 -------------\n",
      "\n",
      "step 0: 0.718578\n",
      "step 10: 0.165012\n",
      "step 20: 0.137207\n",
      "step 30: 0.123960\n",
      "step 40: 0.115907\n",
      "step 50: 0.110379\n",
      "step 60: 0.106295\n",
      "step 70: 0.103122\n",
      "step 80: 0.100566\n",
      "step 90: 0.098451\n",
      "Final training error: 0.096830\n",
      "\n",
      "------------- Training model for number: 3 -------------\n",
      "\n",
      "step 0: 0.727284\n",
      "step 10: 0.173113\n",
      "step 20: 0.148019\n",
      "step 30: 0.135902\n",
      "step 40: 0.128520\n",
      "step 50: 0.123455\n",
      "step 60: 0.119714\n",
      "step 70: 0.116806\n",
      "step 80: 0.114460\n",
      "step 90: 0.112512\n",
      "Final training error: 0.111012\n",
      "\n",
      "------------- Training model for number: 4 -------------\n",
      "\n",
      "step 0: 0.639896\n",
      "step 10: 0.150056\n",
      "step 20: 0.123644\n",
      "step 30: 0.110424\n",
      "step 40: 0.102179\n",
      "step 50: 0.096428\n",
      "step 60: 0.092137\n",
      "step 70: 0.088785\n",
      "step 80: 0.086079\n",
      "step 90: 0.083840\n",
      "Final training error: 0.082126\n",
      "\n",
      "------------- Training model for number: 5 -------------\n",
      "\n",
      "step 0: 0.635689\n",
      "step 10: 0.198403\n",
      "step 20: 0.170377\n",
      "step 30: 0.155645\n",
      "step 40: 0.146322\n",
      "step 50: 0.139796\n",
      "step 60: 0.134926\n",
      "step 70: 0.131124\n",
      "step 80: 0.128054\n",
      "step 90: 0.125513\n",
      "Final training error: 0.123564\n",
      "\n",
      "------------- Training model for number: 6 -------------\n",
      "\n",
      "step 0: 0.686778\n",
      "step 10: 0.122983\n",
      "step 20: 0.096807\n",
      "step 30: 0.084995\n",
      "step 40: 0.078023\n",
      "step 50: 0.073325\n",
      "step 60: 0.069898\n",
      "step 70: 0.067262\n",
      "step 80: 0.065158\n",
      "step 90: 0.063429\n",
      "Final training error: 0.062113\n",
      "\n",
      "------------- Training model for number: 7 -------------\n",
      "\n",
      "step 0: 0.631441\n",
      "step 10: 0.119841\n",
      "step 20: 0.098167\n",
      "step 30: 0.088150\n",
      "step 40: 0.082173\n",
      "step 50: 0.078115\n",
      "step 60: 0.075136\n",
      "step 70: 0.072830\n",
      "step 80: 0.070978\n",
      "step 90: 0.069446\n",
      "Final training error: 0.068273\n",
      "\n",
      "------------- Training model for number: 8 -------------\n",
      "\n",
      "step 0: 0.785142\n",
      "step 10: 0.249144\n",
      "step 20: 0.218743\n",
      "step 30: 0.203384\n",
      "step 40: 0.193617\n",
      "step 50: 0.186632\n",
      "step 60: 0.181265\n",
      "step 70: 0.176934\n",
      "step 80: 0.173315\n",
      "step 90: 0.170211\n",
      "Final training error: 0.167752\n",
      "\n",
      "------------- Training model for number: 9 -------------\n",
      "\n",
      "step 0: 0.697977\n",
      "step 10: 0.209030\n",
      "step 20: 0.183557\n",
      "step 30: 0.169284\n",
      "step 40: 0.159904\n",
      "step 50: 0.153187\n",
      "step 60: 0.148099\n",
      "step 70: 0.144088\n",
      "step 80: 0.140828\n",
      "step 90: 0.138115\n",
      "Final training error: 0.136028\n",
      "\n",
      "Evaluate model on validating data\n",
      "\n",
      "On validating data: 8966/10000\n",
      "\n"
     ]
    }
   ],
   "source": [
    "PREDICT_NUMBERS = 10\n",
    "\n",
    "train_X = pd_train.drop([0], axis=1).values / 255.0\n",
    "predictors = list()\n",
    "for number in range(0, PREDICT_NUMBERS):\n",
    "    train_y = np.array(list(map(int, pd_train[0].values == number)))\n",
    "    predictors.append(LogisticRegression())\n",
    "    print(\"------------- Training model for number: %d -------------\\n\" % number)\n",
    "    predictors[number].fit(train_X, train_y, 0.5, batch_num=50000, verbose=True)\n",
    "\n",
    "print(\"Evaluate model on validating data\")\n",
    "validate_X = pd_validate.drop([0], axis=1).values / 255.\n",
    "tot_right_num = 0\n",
    "for tx, ty in zip(validate_X, pd_validate[0].values):\n",
    "    pred_y = list()\n",
    "    for number in range(0, PREDICT_NUMBERS):\n",
    "        pred_y.append(predictors[number].predict(np.reshape(tx, (1, -1))))\n",
    "\n",
    "    if np.argmax(pred_y) == ty:\n",
    "        tot_right_num += 1\n",
    "\n",
    "print(\"\\nOn validating data: %s/%s\\n\" % (tot_right_num, validate_X.shape[0]))"
   ]
  },
  {
   "cell_type": "markdown",
   "metadata": {},
   "source": [
    "我们看到该模型在验证集上的准确率有89.6%，这是个不错的结果。"
   ]
  },
  {
   "cell_type": "markdown",
   "metadata": {},
   "source": [
    "### 4.参数调优\n",
    "\n",
    "#### 学习率\n",
    "\n",
    "我们设置7个不同的学习率，各训练一个模型，然后选出在验证集上表现最好的作为最终的学习率："
   ]
  },
  {
   "cell_type": "code",
   "execution_count": 7,
   "metadata": {
    "collapsed": false
   },
   "outputs": [
    {
     "name": "stdout",
     "output_type": "stream",
     "text": [
      "------------- Training model with alpha 0.001 -------------\n",
      "On validating data: 9175/10000\n",
      "On training data: 45497/50000\n",
      "------------- Training model with alpha 0.003 -------------\n",
      "On validating data: 9212/10000\n",
      "On training data: 45878/50000\n",
      "------------- Training model with alpha 0.010 -------------\n",
      "On validating data: 9237/10000\n",
      "On training data: 46144/50000\n",
      "------------- Training model with alpha 0.030 -------------\n",
      "On validating data: 9231/10000\n",
      "On training data: 46245/50000\n",
      "------------- Training model with alpha 0.100 -------------\n",
      "On validating data: 9219/10000\n",
      "On training data: 46120/50000\n",
      "------------- Training model with alpha 0.300 -------------\n",
      "On validating data: 9116/10000\n",
      "On training data: 45576/50000\n",
      "------------- Training model with alpha 1.000 -------------\n",
      "On validating data: 8770/10000\n",
      "On training data: 43720/50000\n"
     ]
    }
   ],
   "source": [
    "accuracy_tra = []\n",
    "accuracy_val = []\n",
    "\n",
    "for alpha in [0.001, 0.003, 0.01, 0.03, 0.1, 0.3, 1]:\n",
    "    predictors = list()\n",
    "    print(\"------------- Training model with alpha %.3f -------------\" % alpha)\n",
    "    for number in range(0, PREDICT_NUMBERS):\n",
    "        train_y = np.array(list(map(int, pd_train[0].values == number)))\n",
    "        predictors.append(LogisticRegression())\n",
    "    #     print(\"------------- Training model for number: %d -------------\\n\" % number)\n",
    "        predictors[number].fit(train_X, train_y, alpha, batch_num=10, verbose=False)\n",
    "\n",
    "    # print(\"Evaluate model on validating data\")\n",
    "    tot_right_num_val = 0\n",
    "    for tx, ty in zip(validate_X, pd_validate[0].values):\n",
    "        pred_y = list()\n",
    "        for number in range(0, PREDICT_NUMBERS):\n",
    "            pred_y.append(predictors[number].predict(np.reshape(tx, (1, -1))))\n",
    "\n",
    "        if np.argmax(pred_y) == ty:\n",
    "            tot_right_num_val += 1\n",
    "\n",
    "    print(\"On validating data: %s/%s\" % (tot_right_num_val, validate_X.shape[0]))\n",
    "    \n",
    "    tot_right_num_tra = 0\n",
    "    for tx, ty in zip(train_X, pd_train[0].values):\n",
    "        pred_y = list()\n",
    "        for number in range(0, PREDICT_NUMBERS):\n",
    "            pred_y.append(predictors[number].predict(np.reshape(tx, (1, -1))))\n",
    "\n",
    "        if np.argmax(pred_y) == ty:\n",
    "            tot_right_num_tra += 1\n",
    "\n",
    "    print(\"On training data: %s/%s\" % (tot_right_num_tra, train_X.shape[0]))\n",
    "    \n",
    "    accuracy_tra.append(tot_right_num_tra / 50000)\n",
    "    accuracy_val.append(tot_right_num_val / 10000)"
   ]
  },
  {
   "cell_type": "code",
   "execution_count": 14,
   "metadata": {
    "collapsed": false
   },
   "outputs": [
    {
     "data": {
      "text/plain": [
       "[<matplotlib.lines.Line2D at 0x90c8240>]"
      ]
     },
     "execution_count": 14,
     "metadata": {},
     "output_type": "execute_result"
    },
    {
     "data": {
      "image/png": "[encoded data removed]",
      "text/plain": [
       "<matplotlib.figure.Figure at 0x90c88d0>"
      ]
     },
     "metadata": {},
     "output_type": "display_data"
    }
   ],
   "source": [
    "alp = [0.001, 0.003, 0.01, 0.03, 0.1, 0.3, 1]\n",
    "plt.plot(alp, accuracy_tra, color=\"blue\", linewidth=1.0, linestyle=\"-\")\n",
    "plt.plot(alp, accuracy_val, color=\"green\", linewidth=1.0, linestyle=\"-\")"
   ]
  },
  {
   "cell_type": "markdown",
   "metadata": {},
   "source": [
    "我们可以看到学习率为0.01时，在验证集上的表现最好，让我们以该学习率在训练集上再训练一次："
   ]
  },
  {
   "cell_type": "code",
   "execution_count": 6,
   "metadata": {
    "collapsed": false
   },
   "outputs": [
    {
     "name": "stdout",
     "output_type": "stream",
     "text": [
      "------------- Training model for number: 0 -------------\n",
      "\n",
      "step 0: 0.049542\n",
      "step 10: 0.030585\n",
      "step 20: 0.027832\n",
      "step 30: 0.026479\n",
      "step 40: 0.025645\n",
      "step 50: 0.025066\n",
      "step 60: 0.024633\n",
      "step 70: 0.024291\n",
      "step 80: 0.024010\n",
      "step 90: 0.023773\n",
      "Final training error: 0.023587\n",
      "\n",
      "------------- Training model for number: 1 -------------\n",
      "\n",
      "step 0: 0.046138\n",
      "step 10: 0.032117\n",
      "step 20: 0.029923\n",
      "step 30: 0.028764\n",
      "step 40: 0.028000\n",
      "step 50: 0.027442\n",
      "step 60: 0.027007\n",
      "step 70: 0.026653\n",
      "step 80: 0.026356\n",
      "step 90: 0.026100\n",
      "Final training error: 0.025898\n",
      "\n",
      "------------- Training model for number: 2 -------------\n",
      "\n",
      "step 0: 0.096797\n",
      "step 10: 0.073934\n",
      "step 20: 0.071076\n",
      "step 30: 0.069663\n",
      "step 40: 0.068759\n",
      "step 50: 0.068106\n",
      "step 60: 0.067601\n",
      "step 70: 0.067192\n",
      "step 80: 0.066851\n",
      "step 90: 0.066561\n",
      "Final training error: 0.066334\n",
      "\n",
      "------------- Training model for number: 3 -------------\n",
      "\n",
      "step 0: 0.112371\n",
      "step 10: 0.087489\n",
      "step 20: 0.084005\n",
      "step 30: 0.082545\n",
      "step 40: 0.081721\n",
      "step 50: 0.081171\n",
      "step 60: 0.080766\n",
      "step 70: 0.080447\n",
      "step 80: 0.080187\n",
      "step 90: 0.079968\n",
      "Final training error: 0.079798\n",
      "\n",
      "------------- Training model for number: 4 -------------\n",
      "\n",
      "step 0: 0.083006\n",
      "step 10: 0.058826\n",
      "step 20: 0.055567\n",
      "step 30: 0.053897\n",
      "step 40: 0.052806\n",
      "step 50: 0.052002\n",
      "step 60: 0.051371\n",
      "step 70: 0.050854\n",
      "step 80: 0.050420\n",
      "step 90: 0.050048\n",
      "Final training error: 0.049755\n",
      "\n",
      "------------- Training model for number: 5 -------------\n",
      "\n",
      "step 0: 0.125051\n",
      "step 10: 0.094596\n",
      "step 20: 0.089975\n",
      "step 30: 0.087658\n",
      "step 40: 0.086194\n",
      "step 50: 0.085156\n",
      "step 60: 0.084366\n",
      "step 70: 0.083736\n",
      "step 80: 0.083215\n",
      "step 90: 0.082774\n",
      "Final training error: 0.082430\n",
      "\n",
      "------------- Training model for number: 6 -------------\n",
      "\n",
      "step 0: 0.062390\n",
      "step 10: 0.043676\n",
      "step 20: 0.041088\n",
      "step 30: 0.039839\n",
      "step 40: 0.039078\n",
      "step 50: 0.038553\n",
      "step 60: 0.038161\n",
      "step 70: 0.037851\n",
      "step 80: 0.037597\n",
      "step 90: 0.037381\n",
      "Final training error: 0.037213\n",
      "\n",
      "------------- Training model for number: 7 -------------\n",
      "\n",
      "step 0: 0.068695\n",
      "step 10: 0.052122\n",
      "step 20: 0.050118\n",
      "step 30: 0.049062\n",
      "step 40: 0.048355\n",
      "step 50: 0.047828\n",
      "step 60: 0.047411\n",
      "step 70: 0.047068\n",
      "step 80: 0.046778\n",
      "step 90: 0.046528\n",
      "Final training error: 0.046329\n",
      "\n",
      "------------- Training model for number: 8 -------------\n",
      "\n",
      "step 0: 0.168364\n",
      "step 10: 0.121003\n",
      "step 20: 0.116161\n",
      "step 30: 0.114525\n",
      "step 40: 0.113700\n",
      "step 50: 0.113178\n",
      "step 60: 0.112803\n",
      "step 70: 0.112514\n",
      "step 80: 0.112280\n",
      "step 90: 0.112086\n",
      "Final training error: 0.111936\n",
      "\n",
      "------------- Training model for number: 9 -------------\n",
      "\n",
      "step 0: 0.136421\n",
      "step 10: 0.105690\n",
      "step 20: 0.101991\n",
      "step 30: 0.100363\n",
      "step 40: 0.099392\n",
      "step 50: 0.098722\n",
      "step 60: 0.098221\n",
      "step 70: 0.097827\n",
      "step 80: 0.097507\n",
      "step 90: 0.097239\n",
      "Final training error: 0.097032\n",
      "\n",
      "training time 594.169s\n"
     ]
    }
   ],
   "source": [
    "from time import time\n",
    "\n",
    "t0 = time()\n",
    "predictors = list()\n",
    "for number in range(0, PREDICT_NUMBERS):\n",
    "    train_y = np.array(list(map(int, pd_train[0].values == number)))\n",
    "    predictors.append(LogisticRegression())\n",
    "    print(\"------------- Training model for number: %d -------------\\n\" % number)\n",
    "    predictors[number].fit(train_X, train_y, 0.01, batch_num=10, verbose=True)\n",
    "    \n",
    "print('training time %.3fs' % round(time() - t0, 3))"
   ]
  },
  {
   "cell_type": "markdown",
   "metadata": {},
   "source": [
    "训练时间564s\n",
    "\n",
    "### 5.测试\n",
    "\n",
    "最后我们把训练好的模型，用在测试集上，看看准确率如何："
   ]
  },
  {
   "cell_type": "code",
   "execution_count": 21,
   "metadata": {
    "collapsed": false
   },
   "outputs": [
    {
     "name": "stdout",
     "output_type": "stream",
     "text": [
      "Test model on testing data\n",
      "\n",
      "On testting data: 9183/10000\n",
      "\n",
      "testting time: 2.476s\n"
     ]
    }
   ],
   "source": [
    "t0 = time()\n",
    "\n",
    "print(\"Test model on testing data\")\n",
    "test_X = pd_test.drop([0], axis=1).values / 255.\n",
    "tot_right_num = 0\n",
    "for tx, ty in zip(test_X, pd_test[0].values):\n",
    "    pred_y = list()\n",
    "    for number in range(0, PREDICT_NUMBERS):\n",
    "        pred_y.append(predictors[number].predict(np.reshape(tx, (1, -1))))\n",
    "\n",
    "    if np.argmax(pred_y) == ty:\n",
    "        tot_right_num += 1\n",
    "\n",
    "print(\"\\nOn testting data: %s/%s\\n\" % (tot_right_num, test_X.shape[0]))\n",
    "\n",
    "print(\"testting time: %.3fs\" % round(time() - t0, 3))"
   ]
  },
  {
   "cell_type": "markdown",
   "metadata": {},
   "source": [
    "最终我们在测试集上的准确率为91.8%，比起baseline有所提高；在10000个样本上的测试时间为2.48s，这个结果是令人满意。\n",
    "\n",
    "### 6.持久化\n",
    "\n",
    "我们把训练好的模型储存起来："
   ]
  },
  {
   "cell_type": "code",
   "execution_count": 23,
   "metadata": {
    "collapsed": false
   },
   "outputs": [],
   "source": [
    "import pickle\n",
    "\n",
    "with open('logistic_regression.pkl', 'wb') as f:\n",
    "    pickle.dump(predictors, f)"
   ]
  },
  {
   "cell_type": "markdown",
   "metadata": {},
   "source": [
    "测试持久化是否成功："
   ]
  },
  {
   "cell_type": "code",
   "execution_count": 25,
   "metadata": {
    "collapsed": false
   },
   "outputs": [
    {
     "name": "stdout",
     "output_type": "stream",
     "text": [
      "Test model on testing data\n",
      "\n",
      "On testting data: 9183/10000\n",
      "\n"
     ]
    }
   ],
   "source": [
    "clf = pickle.load(open('logistic_regression.pkl', 'rb'))\n",
    "\n",
    "print(\"Test model on testing data\")\n",
    "test_X = pd_test.drop([0], axis=1).values / 255.\n",
    "tot_right_num = 0\n",
    "for tx, ty in zip(test_X, pd_test[0].values):\n",
    "    pred_y = list()\n",
    "    for number in range(0, PREDICT_NUMBERS):\n",
    "        pred_y.append(clf[number].predict(np.reshape(tx, (1, -1))))\n",
    "\n",
    "    if np.argmax(pred_y) == ty:\n",
    "        tot_right_num += 1\n",
    "\n",
    "print(\"\\nOn testting data: %s/%s\\n\" % (tot_right_num, test_X.shape[0]))"
   ]
  },
  {
   "cell_type": "markdown",
   "metadata": {},
   "source": [
    "我们可以发现，从刚才生成的**logistic_regression.pkl**文件中读取的clf一样可以进行预测。\n",
    "\n",
    "### 7.总结\n",
    "\n",
    "在项目中，我们用Logistic regression算法实现了一个手写识别系统，最终在测试集上的准确率为91.8%。\n",
    "\n",
    "学习了：\n",
    "\n",
    "-  Logistic regression用于多分类问题\n",
    "- 学习速率的选择\n",
    "- 使用了pickle进行持久化"
   ]
  }
 ],
 "metadata": {
  "anaconda-cloud": {},
  "kernelspec": {
   "display_name": "Python [Root]",
   "language": "python",
   "name": "Python [Root]"
  },
  "language_info": {
   "codemirror_mode": {
    "name": "ipython",
    "version": 3
   },
   "file_extension": ".py",
   "mimetype": "text/x-python",
   "name": "python",
   "nbconvert_exporter": "python",
   "pygments_lexer": "ipython3",
   "version": "3.5.2"
  }
 },
 "nbformat": 4,
 "nbformat_minor": 0
}
